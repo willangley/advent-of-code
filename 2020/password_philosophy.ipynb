{
 "cells": [
  {
   "cell_type": "markdown",
   "metadata": {
    "collapsed": true,
    "pycharm": {
     "name": "#%% md\n"
    }
   },
   "source": [
    "## Day 2: Password Philosophy\n",
    "\n",
    "https://adventofcode.com/2020/day/2\n",
    "\n",
    "To try to debug the problem, they have created a list (your puzzle input) of\n",
    "_passwords_ (according to the corrupted database) and _the corporate policy when\n",
    "that password was set_.\n",
    "\n",
    "Each line gives the password policy and then the password. The password policy\n",
    "indicates the lowest and highest number of times a given letter must appear for\n",
    "the password to be valid. For example, `1-3 a` means that the password must\n",
    "contain `a` at least `1` time and at most `3` times."
   ]
  },
  {
   "cell_type": "code",
   "execution_count": 1,
   "metadata": {
    "pycharm": {
     "name": "#%%\n"
    }
   },
   "outputs": [],
   "source": [
    "test_list = \"\"\"\n",
    "1-3 a: abcde\n",
    "1-3 b: cdefg\n",
    "2-9 c: ccccccccc\n",
    "\"\"\""
   ]
  },
  {
   "cell_type": "markdown",
   "metadata": {
    "pycharm": {
     "name": "#%% md\n"
    }
   },
   "source": [
    "In the above example, _`2`_ passwords are valid. The middle password, `cdefg`,\n",
    "is not; it contains no instances of `b`, but needs at least `1`. The first and\n",
    "third passwords are valid: they contain one `a` or nine `c`, both within the\n",
    "limits of their respective policies.\n",
    "\n",
    "_How many passwords are valid_ according to their policies?"
   ]
  },
  {
   "cell_type": "code",
   "execution_count": 2,
   "metadata": {
    "pycharm": {
     "name": "#%%\n"
    }
   },
   "outputs": [],
   "source": [
    "import doctest\n",
    "import re"
   ]
  },
  {
   "cell_type": "code",
   "execution_count": 3,
   "metadata": {
    "pycharm": {
     "name": "#%%\n"
    }
   },
   "outputs": [
    {
     "data": {
      "text/plain": [
       "TestResults(failed=0, attempted=1)"
      ]
     },
     "execution_count": 3,
     "metadata": {},
     "output_type": "execute_result"
    }
   ],
   "source": [
    "def read_lines(input_list):\n",
    "  \"\"\"\n",
    "  >>> read_lines(test_list)\n",
    "  [[1, 3, 'a', 'abcde'], [1, 3, 'b', 'cdefg'], [2, 9, 'c', 'ccccccccc']]\n",
    "  \"\"\"\n",
    "  passwords = []\n",
    "  for line in input_list.splitlines():\n",
    "    match = re.match(r\"(\\d+)-(\\d+) (\\w): (\\w+)\", line)\n",
    "    if match:\n",
    "      passwords.append([int(match.group(1)), int(match.group(2)), match.group(3), match.group(4)])\n",
    "  return passwords\n",
    "\n",
    "doctest.testmod()"
   ]
  },
  {
   "cell_type": "code",
   "execution_count": 4,
   "metadata": {
    "pycharm": {
     "name": "#%%\n"
    }
   },
   "outputs": [
    {
     "data": {
      "text/plain": [
       "TestResults(failed=0, attempted=2)"
      ]
     },
     "execution_count": 4,
     "metadata": {},
     "output_type": "execute_result"
    }
   ],
   "source": [
    "def part1(lines):\n",
    "  \"\"\"\n",
    "  >>> part1(read_lines(test_list))\n",
    "  2\n",
    "  \"\"\"\n",
    "  valid = 0\n",
    "  for lowest, highest, letter, password in lines:\n",
    "    matches = [c for c in password if c == letter]\n",
    "    if lowest <= len(matches) <= highest:\n",
    "      valid += 1\n",
    "  return valid\n",
    "\n",
    "doctest.testmod()"
   ]
  },
  {
   "cell_type": "markdown",
   "metadata": {
    "pycharm": {
     "name": "#%% md\n"
    }
   },
   "source": [
    "# Part Two\n",
    "\n",
    "Each policy actually describes two _positions in the password_, where 1 means\n",
    "the first character, 2 means the second character, and so on. _Exactly one of\n",
    "these positions_ must contain the given letter. Other occurrences of the letter\n",
    "are irrelevant for the purposes of policy enforcement.\n",
    "\n",
    "Given the same example list from above:\n",
    "\n",
    "- `1-3 a: abcde` is _valid_: position `1` contains `a` and position `3` does\n",
    "  not.\n",
    "- `1-3 b: cdefg` is _invalid_: neither position `1` nor position `3` contains\n",
    "  `b`.\n",
    "- `2-9 c: ccccccccc` is _invalid_: both position `2` and position `9` contain\n",
    "  `c`.\n",
    "\n",
    "_How many passwords are valid_ according to the new interpretation of the\n",
    "policies?"
   ]
  },
  {
   "cell_type": "code",
   "execution_count": 5,
   "metadata": {
    "pycharm": {
     "name": "#%%\n"
    }
   },
   "outputs": [
    {
     "data": {
      "text/plain": [
       "TestResults(failed=0, attempted=3)"
      ]
     },
     "execution_count": 5,
     "metadata": {},
     "output_type": "execute_result"
    }
   ],
   "source": [
    "def part2(lines):\n",
    "  \"\"\"\n",
    "  >>> part2(read_lines(test_list))\n",
    "  1\n",
    "  \"\"\"\n",
    "  valid = 0\n",
    "  for first, second, character, password in lines:\n",
    "    valid += (password[first - 1] == character) != (password[second - 1] == character)\n",
    "  return valid\n",
    "\n",
    "doctest.testmod()"
   ]
  },
  {
   "cell_type": "markdown",
   "metadata": {},
   "source": [
    "# Running on real input\n",
    "\n",
    "1. Use the file uploader to upload a file\n",
    "2. Re-run the last cell to use the input"
   ]
  },
  {
   "cell_type": "code",
   "execution_count": 6,
   "metadata": {
    "pycharm": {
     "name": "#%%\n"
    }
   },
   "outputs": [
    {
     "data": {
      "application/vnd.jupyter.widget-view+json": {
       "model_id": "33f8adbc489747cf8f97f8f9af911028",
       "version_major": 2,
       "version_minor": 0
      },
      "text/plain": [
       "FileUpload(value={}, accept='.txt', description='Upload')"
      ]
     },
     "metadata": {},
     "output_type": "display_data"
    }
   ],
   "source": [
    "from IPython.display import display\n",
    "import ipywidgets as widgets\n",
    "\n",
    "uploader = widgets.FileUpload(accept='.txt', multiple=False)\n",
    "display(uploader)"
   ]
  },
  {
   "cell_type": "code",
   "execution_count": null,
   "metadata": {
    "pycharm": {
     "name": "#%%\n"
    }
   },
   "outputs": [],
   "source": [
    "lines = read_lines(\n",
    "    list(uploader.value.values())[0]['content'].decode('utf-8'))\n",
    "display(f'[Part 1]: {part1(lines)}')\n",
    "display(f'[Part 2]: {part2(lines)}')"
   ]
  }
 ],
 "metadata": {
  "kernelspec": {
   "display_name": "Python 3 (ipykernel)",
   "language": "python",
   "name": "python3"
  },
  "language_info": {
   "codemirror_mode": {
    "name": "ipython",
    "version": 3
   },
   "file_extension": ".py",
   "mimetype": "text/x-python",
   "name": "python",
   "nbconvert_exporter": "python",
   "pygments_lexer": "ipython3",
   "version": "3.8.2"
  }
 },
 "nbformat": 4,
 "nbformat_minor": 1
}