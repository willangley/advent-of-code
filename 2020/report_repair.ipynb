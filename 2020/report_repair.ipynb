{
 "cells": [
  {
   "cell_type": "markdown",
   "metadata": {},
   "source": [
    "# Day 1: Report Repair\n",
    "\n",
    "Before you leave, the Elves in accounting just need you to fix your\n",
    "_expense report_ (your puzzle input); apparently, something isn't quite adding\n",
    "up.\n",
    "\n",
    "Specifically, they need you to _find the two entries that sum to `2020`_ and\n",
    "then multiply those two numbers together."
   ]
  },
  {
   "cell_type": "code",
   "execution_count": 1,
   "metadata": {
    "pycharm": {
     "name": "#%%\n"
    }
   },
   "outputs": [],
   "source": [
    "import doctest\n",
    "import io\n",
    "\n",
    "import numpy as np\n",
    "import pandas as pd\n",
    "from sklearn.utils.extmath import cartesian"
   ]
  },
  {
   "cell_type": "code",
   "execution_count": 2,
   "metadata": {
    "pycharm": {
     "name": "#%%\n"
    }
   },
   "outputs": [],
   "source": [
    "test_input = \"\"\"\n",
    "1721\n",
    "979\n",
    "366\n",
    "299\n",
    "675\n",
    "1456\n",
    "\"\"\""
   ]
  },
  {
   "cell_type": "code",
   "execution_count": 3,
   "metadata": {
    "pycharm": {
     "name": "#%%\n"
    }
   },
   "outputs": [
    {
     "data": {
      "text/plain": [
       "TestResults(failed=0, attempted=1)"
      ]
     },
     "execution_count": 3,
     "metadata": {},
     "output_type": "execute_result"
    }
   ],
   "source": [
    "def read_report(input_text):\n",
    "  \"\"\"\n",
    "  >>> read_report(test_input)\n",
    "  array([1721,  979,  366,  299,  675, 1456])\n",
    "  \"\"\"\n",
    "  return pd.read_csv(io.StringIO(input_text), header=None).to_numpy().flatten()\n",
    "\n",
    "doctest.testmod()"
   ]
  },
  {
   "cell_type": "code",
   "execution_count": 4,
   "metadata": {
    "pycharm": {
     "name": "#%%\n"
    }
   },
   "outputs": [
    {
     "data": {
      "text/plain": [
       "TestResults(failed=0, attempted=2)"
      ]
     },
     "execution_count": 4,
     "metadata": {},
     "output_type": "execute_result"
    }
   ],
   "source": [
    "def part1(report):\n",
    "  \"\"\"\n",
    "  >>> part1(read_report(test_input))\n",
    "  514579\n",
    "  \"\"\"\n",
    "  twice = cartesian((report, report))\n",
    "  sums = np.sum(twice, axis=1)\n",
    "  table = np.concatenate((twice, sums.reshape((-1, 1))), axis=1)\n",
    "  matches = table[np.where(table[:,2] == 2020)]\n",
    "  product = matches[0, 0] * matches[0, 1]\n",
    "  return product\n",
    "\n",
    "doctest.testmod()"
   ]
  },
  {
   "cell_type": "markdown",
   "metadata": {
    "pycharm": {
     "name": "#%% md\n"
    }
   },
   "source": [
    "# Part Two\n",
    "\n",
    "In your expense report, *what is the product of the three entries that sum to\n",
    "`2020`*?"
   ]
  },
  {
   "cell_type": "code",
   "execution_count": 5,
   "metadata": {
    "pycharm": {
     "name": "#%%\n"
    }
   },
   "outputs": [
    {
     "data": {
      "text/plain": [
       "TestResults(failed=0, attempted=3)"
      ]
     },
     "execution_count": 5,
     "metadata": {},
     "output_type": "execute_result"
    }
   ],
   "source": [
    "def part2(report):\n",
    "  \"\"\"\n",
    "  >>> part2(read_report(test_input))\n",
    "  241861950\n",
    "  \"\"\"\n",
    "  thrice = cartesian((report, report, report))\n",
    "  sums = np.sum(thrice, axis=1)\n",
    "  table = np.concatenate((thrice, sums.reshape((-1, 1))), axis=1)\n",
    "  matches = table[np.where(table[:,3] == 2020)]\n",
    "  product = matches[0, 0] * matches[0, 1] * matches[0, 2]\n",
    "  return product\n",
    "\n",
    "doctest.testmod()"
   ]
  },
  {
   "cell_type": "markdown",
   "metadata": {
    "pycharm": {
     "name": "#%% md\n"
    }
   },
   "source": [
    "# Running on real input\n",
    "\n",
    "1. Use the file uploader to upload a file\n",
    "2. Re-run the last cell to use the input"
   ]
  },
  {
   "cell_type": "code",
   "execution_count": 6,
   "metadata": {
    "pycharm": {
     "name": "#%%\n"
    }
   },
   "outputs": [
    {
     "data": {
      "application/vnd.jupyter.widget-view+json": {
       "model_id": "90d93d5446844c159507986c14f8b3e6",
       "version_major": 2,
       "version_minor": 0
      },
      "text/plain": [
       "FileUpload(value={}, accept='.txt', description='Upload')"
      ]
     },
     "metadata": {},
     "output_type": "display_data"
    }
   ],
   "source": [
    "from IPython.display import display\n",
    "import ipywidgets as widgets\n",
    "\n",
    "uploader = widgets.FileUpload(accept='.txt', multiple=False)\n",
    "display(uploader)"
   ]
  },
  {
   "cell_type": "code",
   "execution_count": null,
   "metadata": {
    "pycharm": {
     "name": "#%%\n"
    }
   },
   "outputs": [],
   "source": [
    "report = read_report(\n",
    "    list(uploader.value.values())[0]['content'].decode('utf-8'))\n",
    "display(f'[Part 1]: {part1(report)}')\n",
    "display(f'[Part 2]: {part2(report)}')"
   ]
  }
 ],
 "metadata": {
  "kernelspec": {
   "display_name": "Python 3 (ipykernel)",
   "language": "python",
   "name": "python3"
  },
  "language_info": {
   "codemirror_mode": {
    "name": "ipython",
    "version": 3
   },
   "file_extension": ".py",
   "mimetype": "text/x-python",
   "name": "python",
   "nbconvert_exporter": "python",
   "pygments_lexer": "ipython3",
   "version": "3.8.2"
  }
 },
 "nbformat": 4,
 "nbformat_minor": 1
}
