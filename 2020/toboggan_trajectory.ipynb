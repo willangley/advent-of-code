{
 "cells": [
  {
   "cell_type": "markdown",
   "metadata": {
    "collapsed": true,
    "pycharm": {
     "name": "#%% md\n"
    }
   },
   "source": [
    "# Day 3: Toboggan Trajectory\n",
    "\n",
    "https://adventofcode.com/2020/day/3\n",
    "\n",
    "Given:\n",
    "\n",
    "* a map of trees in an area; the map repeats indefinitely left-to-right,\n",
    "* a toboggan that starts in the top-left corner of the map, and\n",
    "* moves down and to the right following a rational slope\n",
    "\n",
    "Count the number of trees you'd encounter going `right 3, down 1`. For instance,\n",
    "given the map:"
   ]
  },
  {
   "cell_type": "code",
   "execution_count": 1,
   "metadata": {
    "pycharm": {
     "name": "#%%\n"
    }
   },
   "outputs": [],
   "source": [
    "test_map = \"\"\"\n",
    "..##.......\n",
    "#...#...#..\n",
    ".#....#..#.\n",
    "..#.#...#.#\n",
    ".#...##..#.\n",
    "..#.##.....\n",
    ".#.#.#....#\n",
    ".#........#\n",
    "#.##...#...\n",
    "#...##....#\n",
    ".#..#...#.#\n",
    "\"\"\".strip()"
   ]
  },
  {
   "cell_type": "markdown",
   "metadata": {
    "pycharm": {
     "name": "#%% md\n"
    }
   },
   "source": [
    "you'd encounter `7` trees."
   ]
  },
  {
   "cell_type": "code",
   "execution_count": 2,
   "metadata": {
    "pycharm": {
     "name": "#%%\n"
    }
   },
   "outputs": [
    {
     "data": {
      "text/plain": [
       "TestResults(failed=0, attempted=1)"
      ]
     },
     "execution_count": 2,
     "metadata": {},
     "output_type": "execute_result"
    }
   ],
   "source": [
    "import doctest\n",
    "\n",
    "def count_trees(map, right=0, down=0):\n",
    "  \"\"\"\n",
    "  >>> count_trees(test_map, right=3, down=1)\n",
    "  7\n",
    "  \"\"\"\n",
    "  map = map.splitlines()\n",
    "  x = 0\n",
    "  trees = 0\n",
    "  for y in range(down, len(map), down):\n",
    "    x += right\n",
    "    x %= len(map[y])\n",
    "    trees += map[y][x] == '#'\n",
    "  return trees\n",
    "\n",
    "doctest.testmod()"
   ]
  },
  {
   "cell_type": "markdown",
   "metadata": {
    "pycharm": {
     "name": "#%% md\n"
    }
   },
   "source": [
    "Determine the number of trees you would encounter if, for each of the following\n",
    "slopes, you start at the top-left corner and traverse the map all the way to the\n",
    "bottom:\n",
    "\n",
    "* Right 1, down 1.\n",
    "* Right 3, down 1. (This is the slope you already checked.)\n",
    "* Right 5, down 1.\n",
    "* Right 7, down 1.\n",
    "* Right 1, down 2.\n",
    "\n",
    "In the above example, these slopes would find `2`, `7`, `3`, `4`, and `2`\n",
    "tree(s) respectively; multiplied together, these produce the answer `336`.\n",
    "\n",
    "What do you get if you multiply together the number of trees encountered on each\n",
    "of the listed slopes?"
   ]
  },
  {
   "cell_type": "code",
   "execution_count": 3,
   "metadata": {
    "pycharm": {
     "name": "#%%\n"
    }
   },
   "outputs": [
    {
     "data": {
      "text/plain": [
       "TestResults(failed=0, attempted=2)"
      ]
     },
     "execution_count": 3,
     "metadata": {},
     "output_type": "execute_result"
    }
   ],
   "source": [
    "from functools import reduce\n",
    "from operator import mul\n",
    "\n",
    "def part_two(map):\n",
    "  \"\"\"\n",
    "  >>> part_two(test_map)\n",
    "  336\n",
    "  \"\"\"\n",
    "  return reduce(\n",
    "      mul, (count_trees(map, right, down) for right, down\n",
    "            in ((1,1), (3,1), (5,1), (7,1), (1,2))))\n",
    "\n",
    "doctest.testmod()"
   ]
  },
  {
   "cell_type": "markdown",
   "metadata": {},
   "source": [
    "# Running on real input\n",
    "\n",
    "1. Use the file uploader to upload a file\n",
    "2. Re-run the last cell to use the input"
   ]
  },
  {
   "cell_type": "code",
   "execution_count": null,
   "metadata": {
    "pycharm": {
     "name": "#%%\n"
    }
   },
   "outputs": [],
   "source": [
    "from IPython.display import display\n",
    "import ipywidgets as widgets\n",
    "\n",
    "uploader = widgets.FileUpload(accept='.txt', multiple=False)\n",
    "display(uploader)"
   ]
  },
  {
   "cell_type": "code",
   "execution_count": null,
   "metadata": {
    "pycharm": {
     "name": "#%%\n"
    }
   },
   "outputs": [],
   "source": [
    "map = list(uploader.value.values())[0]['content'].decode('utf-8')\n",
    "display(f'[Part 1]: {count_trees(map, right=3, down=1)}')\n",
    "display(f'[Part 2]: {part_two(map)}')"
   ]
  }
 ],
 "metadata": {
  "kernelspec": {
   "display_name": "Python 3 (ipykernel)",
   "language": "python",
   "name": "python3"
  },
  "language_info": {
   "codemirror_mode": {
    "name": "ipython",
    "version": 3
   },
   "file_extension": ".py",
   "mimetype": "text/x-python",
   "name": "python",
   "nbconvert_exporter": "python",
   "pygments_lexer": "ipython3",
   "version": "3.8.2"
  }
 },
 "nbformat": 4,
 "nbformat_minor": 1
}