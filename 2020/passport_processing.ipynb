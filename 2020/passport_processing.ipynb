{
 "cells": [
  {
   "cell_type": "markdown",
   "metadata": {
    "collapsed": true,
    "pycharm": {
     "name": "#%% md\n"
    }
   },
   "source": [
    "# Day 4: Passport Processing\n",
    "\n",
    "https://adventofcode.com/2020/day/4\n",
    "\n",
    "Passport data is validated in batch files (your puzzle input). Each passport is\n",
    "represented as a sequence of `key:value` pairs separated by spaces or newlines.\n",
    "Passports are separated by blank lines.\n",
    "\n",
    "The expected fields are as follows:\n",
    "\n",
    "- `byr` (Birth Year)\n",
    "- `iyr` (Issue Year)\n",
    "- `eyr` (Expiration Year)\n",
    "- `hgt` (Height)\n",
    "- `hcl` (Hair Color)\n",
    "- `ecl` (Eye Color)\n",
    "- `pid` (Passport ID)\n",
    "- `cid` (Country ID)\n",
    "\n",
    "Here is an example batch file containing four passports:"
   ]
  },
  {
   "cell_type": "code",
   "execution_count": null,
   "outputs": [],
   "source": [
    "test_batch_file = \"\"\"\n",
    "ecl:gry pid:860033327 eyr:2020 hcl:#fffffd\n",
    "byr:1937 iyr:2017 cid:147 hgt:183cm\n",
    "\n",
    "iyr:2013 ecl:amb cid:350 eyr:2023 pid:028048884\n",
    "hcl:#cfa07d byr:1929\n",
    "\n",
    "hcl:#ae17e1 iyr:2013\n",
    "eyr:2024\n",
    "ecl:brn pid:760753108 byr:1931\n",
    "hgt:179cm\n",
    "\n",
    "hcl:#cfa07d eyr:2025 pid:166559648\n",
    "iyr:2011 ecl:brn hgt:59in\n",
    "\"\"\""
   ],
   "metadata": {
    "collapsed": false,
    "pycharm": {
     "name": "#%%\n"
    }
   }
  },
  {
   "cell_type": "markdown",
   "source": [
    "Count the number of **valid** passports - those that have all required fields.\n",
    "Treat `cid` as optional. **In your batch file, how many passports are valid?**\n",
    "\n",
    "According to the above rules, your improved system would report `2` valid\n",
    "passports."
   ],
   "metadata": {
    "collapsed": false,
    "pycharm": {
     "name": "#%% md\n"
    }
   }
  },
  {
   "cell_type": "code",
   "execution_count": null,
   "outputs": [],
   "source": [
    "import doctest\n",
    "import re\n",
    "\n",
    "def passports(batch_file):\n",
    "  passports = re.split(r'\\n{2,}', batch_file)\n",
    "  for passport in passports:\n",
    "    pairs = re.split(r'\\s+', passport)\n",
    "    fields = dict(f.split(':') for f in pairs if f)\n",
    "    yield fields\n",
    "\n",
    "def has_required_fields(passport):\n",
    "  required_fields = {'byr', 'iyr', 'eyr', 'hgt', 'hcl', 'ecl', 'pid'}\n",
    "  return set(passport.keys()) >= required_fields\n",
    "\n",
    "def count_valid_passports(batch_file):\n",
    "  \"\"\"\n",
    "  >>> count_valid_passports(test_batch_file)\n",
    "  2\n",
    "  \"\"\"\n",
    "  return sum(has_required_fields(passport) for passport\n",
    "             in passports(batch_file))\n",
    "\n",
    "doctest.testmod()"
   ],
   "metadata": {
    "collapsed": false,
    "pycharm": {
     "name": "#%%\n"
    }
   }
  },
  {
   "cell_type": "markdown",
   "source": [
    "# Part Two\n",
    "\n",
    "You can continue to ignore the cid field, but each other field has strict rules\n",
    "about what values are valid for automatic validation:\n",
    "\n",
    "- `byr` (Birth Year) - four digits; at least `1920` and at most `2002`.\n",
    "- `iyr` (Issue Year) - four digits; at least `2010` and at most `2020`.\n",
    "- `eyr` (Expiration Year) - four digits; at least `2020` and at most `2030`.\n",
    "- `hgt` (Height) - a number followed by either `cm` or `in`:\n",
    "    - If `cm`, the number must be at least `150` and at most `193`.\n",
    "    - If `in`, the number must be at least `59` and at most `76`.\n",
    "- `hcl` (Hair Color) - a `#` followed by exactly six characters `0`-`9` or\n",
    "  `a`-`f`.\n",
    "- `ecl` (Eye Color) - exactly one of: `amb` `blu` `brn` `gry` `grn` `hzl` `oth`.\n",
    "- `pid` (Passport ID) - a nine-digit number, including leading zeroes.\n",
    "- `cid` (Country ID) - ignored, missing or not.\n",
    "\n",
    "Count the number of **valid** passports - those that have all required fields\n",
    "**and valid values**. Continue to treat `cid` as optional. **In your batch file,\n",
    "how many passports are valid?**"
   ],
   "metadata": {
    "collapsed": false,
    "pycharm": {
     "name": "#%% md\n"
    }
   }
  },
  {
   "cell_type": "code",
   "execution_count": null,
   "outputs": [],
   "source": [
    "def valid_as_year(text, at_least, at_most):\n",
    "  if re.match(r'\\d{4}$', text):\n",
    "    return at_least <= int(text) <= at_most\n",
    "  return False\n",
    "\n",
    "def valid_as_height(text):\n",
    "  match = re.match(r'(\\d+)(cm|in)$', text)\n",
    "  if match:\n",
    "    height, unit = int(match.group(1)), match.group(2)\n",
    "    if unit == 'cm':\n",
    "      return 150 <= height <= 193\n",
    "    elif unit == 'in':\n",
    "      return 59 <= height <= 76\n",
    "  return False\n",
    "\n",
    "def valid_hair_color(text):\n",
    "  return re.match(r'#[0-9a-f]{6}$', text)\n",
    "\n",
    "def valid_eye_color(text):\n",
    "  eye_colors = {'amb', 'blu', 'brn', 'gry', 'grn', 'hzl', 'oth'}\n",
    "  return text in eye_colors\n",
    "\n",
    "def valid_passport_id(text):\n",
    "  return re.match(r'\\d{9}$', text)\n",
    "\n",
    "def part_two(batch_file):\n",
    "  \"\"\"\n",
    "  >>> part_two(test_batch_file)\n",
    "  2\n",
    "  \"\"\"\n",
    "  valid_passports = 0\n",
    "  for passport in passports(batch_file):\n",
    "    if not has_required_fields(passport): continue\n",
    "    if not valid_as_year(passport['byr'], 1920, 2002): continue\n",
    "    if not valid_as_year(passport['iyr'], 2010, 2020): continue\n",
    "    if not valid_as_year(passport['eyr'], 2020, 2030): continue\n",
    "    if not valid_as_height(passport['hgt']): continue\n",
    "    if not valid_hair_color(passport['hcl']): continue\n",
    "    if not valid_eye_color(passport['ecl']): continue\n",
    "    if not valid_passport_id(passport['pid']): continue\n",
    "    valid_passports += 1\n",
    "  return valid_passports\n",
    "\n",
    "doctest.testmod()"
   ],
   "metadata": {
    "collapsed": false,
    "pycharm": {
     "name": "#%%\n"
    }
   }
  },
  {
   "cell_type": "markdown",
   "source": [
    "# Running on real input\n",
    "\n",
    "1. Use the file uploader to upload a file\n",
    "2. Re-run the last cell to use the input"
   ],
   "metadata": {
    "collapsed": false
   }
  },
  {
   "cell_type": "code",
   "execution_count": null,
   "outputs": [],
   "source": [
    "from IPython.display import display\n",
    "import ipywidgets as widgets\n",
    "\n",
    "uploader = widgets.FileUpload(accept='.txt', multiple=False)\n",
    "display(uploader)"
   ],
   "metadata": {
    "collapsed": false,
    "pycharm": {
     "name": "#%%\n"
    }
   }
  },
  {
   "cell_type": "code",
   "execution_count": null,
   "outputs": [],
   "source": [
    "batch_file = list(uploader.value.values())[0]['content'].decode('utf-8')\n",
    "print('[Part 1] valid passports:', count_valid_passports(batch_file))\n",
    "print('[Part 2] valid passports:', part_two(batch_file))"
   ],
   "metadata": {
    "collapsed": false,
    "pycharm": {
     "name": "#%%\n"
    }
   }
  }
 ],
 "metadata": {
  "kernelspec": {
   "display_name": "Python 3",
   "language": "python",
   "name": "python3"
  },
  "language_info": {
   "codemirror_mode": {
    "name": "ipython",
    "version": 2
   },
   "file_extension": ".py",
   "mimetype": "text/x-python",
   "name": "python",
   "nbconvert_exporter": "python",
   "pygments_lexer": "ipython2",
   "version": "2.7.6"
  }
 },
 "nbformat": 4,
 "nbformat_minor": 0
}